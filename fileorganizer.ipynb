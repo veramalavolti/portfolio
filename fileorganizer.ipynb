{
 "cells": [
  {
   "cell_type": "markdown",
   "metadata": {},
   "source": [
    "**Step 1**\n",
    "\n",
    "Il path di un file è il suo percorso sul file system. \n",
    "\n",
    "Un path assoluto è il percorso dalla cartella root, cioè la cartella “più in alto” della gerarchia. Su Windows, per esempio, i path assoluti partono da C. \n",
    "\n",
    "Un path relativo, invece, si riferisce alla cartella corrente.\n",
    "\n",
    "In generale, cerca di evitare i path assoluti. Visto che il percorso di un file sarà diverso da utente a utente, se qualcun altro vuole eseguire il tuo codice dovrà cambiarli (tutti) a mano. \n",
    "\n",
    "In questo progetto puoi supporre che il notebook degli Step 1 e 3 sia allo stesso livello (cioè nella stessa cartella) della cartella files/ che contiene i file da spostare. Potrai quindi fare riferimento a questa in modo relativo. \n",
    "\n",
    "Un'alternativa, se ti torna meglio, è spostarti fisicamente nella cartella files/; puoi farlo attraverso la funzione os.chdir.\n",
    "\n",
    "Le specifiche chiedono di aggiornare il file di recap. Sembra una richiesta semplice, ma molti studenti si perdono qualche pezzo. \n",
    "\n",
    "Prima di buttarti sul codice, prova a chiederti:\n",
    "\n",
    "Com’è fatto il file di recap?\n",
    "Quali operazioni devono essere eseguite se il file non esiste?\n",
    "E se invece esiste già?\n",
    "Per poter lavorare tutti i file dentro la cartella files/, dovrai scrivere un ciclo. Ricordati che tutte le operazioni nel corpo del ciclo verranno eseguite a ogni iterazione del ciclo stesso. \n",
    "\n",
    "Chiediti quindi quali, tra le logiche che dovrai implementare (gestione e scrittura del file di recap, creazione delle sottocartelle, stampa delle informazioni dei file, spostamento dei file ecc.), meritino di essere inserite dentro al ciclo (e quindi essere eseguite per ognuno dei file), e quali invece è sufficiente eseguire una sola volta, prima o dopo il ciclo."
   ]
  },
  {
   "cell_type": "code",
   "execution_count": 1,
   "metadata": {},
   "outputs": [
    {
     "name": "stdout",
     "output_type": "stream",
     "text": [
      "bw type:image size:94926B\n",
      "ciao type:doc size:12B\n",
      "daffodil type:image size:24657B\n",
      "eclipse type:image size:64243B\n",
      "pippo type:doc size:8299B\n",
      "song1 type:audi size:1087849B\n",
      "song2 type:audi size:764176B\n",
      "trump type:image size:10195B\n"
     ]
    }
   ],
   "source": [
    "import os\n",
    "import shutil\n",
    "import csv\n",
    "from datetime import datetime\n",
    "\n",
    "# Questa è la cartella in cui è contenuto il file (i files) da elaborare\n",
    "files_folder = \"files\"\n",
    "recap_file = os.path.join(files_folder, \"recap.csv\")\n",
    "\n",
    "# Mappatura estensione e tipo corrispondente\n",
    "type_map = {\n",
    "    \"jpg\": \"images\",\n",
    "    \"jpeg\": \"images\",\n",
    "    \"png\": \"images\",\n",
    "    \"txt\": \"docs\",\n",
    "    \"odt\": \"docs\",\n",
    "    \"docx\": \"docs\",\n",
    "    \"mp3\": \"audio\",\n",
    "    \"wav\": \"audio\"\n",
    "}\n",
    "\n",
    "# Creo file recap.csv se non esiste\n",
    "if not os.path.exists(recap_file):\n",
    "    with open(recap_file, mode='w', newline='') as f:\n",
    "        writer = csv.writer(f)\n",
    "        writer.writerow([\"filename\", \"type\", \"size (B)\", \"timestamp\"])\n",
    "\n",
    "# Listo i file nella cartella in ordine alfabetico\n",
    "file_list = sorted([\n",
    "    f for f in os.listdir(files_folder)\n",
    "    if os.path.isfile(os.path.join(files_folder, f))\n",
    "])\n",
    "\n",
    "#Apro qui il file di recap in modalità append per evitare di aprire e chiudere sempre\n",
    "with open(recap_file, mode='a', newline='') as f:\n",
    "    writer = csv.writer(f)\n",
    "\n",
    "    # Elaboro i file principali\n",
    "    for filename in file_list:\n",
    "        filepath = os.path.join(files_folder, filename)\n",
    "        extension = filename.split('.')[-1].lower()\n",
    "        file_type = type_map.get(extension)\n",
    "\n",
    "        if not file_type:\n",
    "            continue\n",
    "            \n",
    "        # Creo sottocartella se non esiste già\n",
    "        destination_folder = os.path.join(files_folder, file_type)\n",
    "        os.makedirs(destination_folder, exist_ok=True)\n",
    "\n",
    "        destination_path = os.path.join(destination_folder, filename)\n",
    "\n",
    "        # Calcolo dimensione in byte che mi servirà\n",
    "        size_bytes = os.path.getsize(filepath)\n",
    "\n",
    "        # Sposto il file nella sottocartella\n",
    "        shutil.move(filepath, destination_path)\n",
    "\n",
    "        # Stampo le relative info\n",
    "        print(f\"{os.path.splitext(filename)[0]} type:{file_type[:-1]} size:{size_bytes}B\")\n",
    "\n",
    "        # In questo modo viene aggiornato direttamente il file recap\n",
    "        writer.writerow([\n",
    "                filename,\n",
    "                file_type[:-1],\n",
    "                size_bytes,\n",
    "                datetime.now().strftime(\"%Y-%m-%d %H:%M:%S\")\n",
    "            ])\n",
    "        "
   ]
  },
  {
   "cell_type": "markdown",
   "metadata": {},
   "source": [
    "**Step 2**\n",
    "\n",
    "Inserisci lo script che hai creato in un piccolo eseguibile (chiamalo *addfile.py* e posizionalo in questa cartella, a fianco del notebook) dotato di *interfaccia a linea di comando* (CLI).\n",
    "\n",
    "Lo scopo dell'eseguibile è spostare un *singolo* file (che si trova nella cartella files) nella sottocartella di competenza, aggiornando il recap.\n",
    "\n",
    "L'interfaccia dell'eseguibile ha come unico argomento (obbligatorio) il nome del file da spostare (comprensivo di formato, es: 'trump.jpeg'). Nel caso in cui il file passato come argomento non esista, l'interfaccia deve comunicarlo all'utente.\n",
    "\n",
    "**Consiglio**: oltre alle precedenti, puoi usare le librerie *sys* e *argparse*.\n",
    "\n",
    "---"
   ]
  },
  {
   "cell_type": "markdown",
   "metadata": {},
   "source": [
    "**Step 3**\n",
    "\n",
    "Una immagine in scala di grigio ha un solo livello di colore, una RGB ne ha 3, una RGBA 4 (l'ultimo è detto canale *alpha*).\n",
    "\n",
    "Il modulo *Image* della libreria *PIL* permette di caricare un'immagine, che può essere trasformata in un array NumPy attraverso la funzione *np.array*. A partire da tale array, è possibile capire se l'immagine caricata è in scala di grigio, RGB o RGBA.\n",
    "\n",
    "Aggiungi al notebook dello Step 1 uno script che iteri sulla sottocartella *images* e costruisca una tabella riassuntiva come questa (prodotta con la libreria *tabulate*):"
   ]
  },
  {
   "cell_type": "code",
   "execution_count": 11,
   "metadata": {},
   "outputs": [
    {
     "name": "stdout",
     "output_type": "stream",
     "text": [
      "╒══════════╤══════════╤═════════╤═════════════╤════════╤════════╤═══════╤═════════╕\n",
      "│ name     │   height │   width │   grayscale │      R │      G │     B │   ALPHA │\n",
      "╞══════════╪══════════╪═════════╪═════════════╪════════╪════════╪═══════╪═════════╡\n",
      "│ bw       │      512 │     512 │       21.48 │   0.00 │   0.00 │  0.00 │    0.00 │\n",
      "├──────────┼──────────┼─────────┼─────────────┼────────┼────────┼───────┼─────────┤\n",
      "│ daffodil │      500 │     335 │        0.00 │ 109.25 │  85.56 │  4.97 │    0.00 │\n",
      "├──────────┼──────────┼─────────┼─────────────┼────────┼────────┼───────┼─────────┤\n",
      "│ eclipse  │      256 │     256 │        0.00 │ 109.05 │ 109.52 │ 39.85 │  133.59 │\n",
      "├──────────┼──────────┼─────────┼─────────────┼────────┼────────┼───────┼─────────┤\n",
      "│ trump    │      183 │     275 │        0.00 │  97.01 │  98.99 │ 90.92 │    0.00 │\n",
      "╘══════════╧══════════╧═════════╧═════════════╧════════╧════════╧═══════╧═════════╛\n"
     ]
    }
   ],
   "source": [
    "#FILL ME"
   ]
  },
  {
   "cell_type": "markdown",
   "metadata": {},
   "source": [
    "Oltre al nome del file, la tabella riporta:\n",
    "\n",
    "- altezza dell'immagine, in pixel\n",
    "- larghezza dell'immagine, in pixel\n",
    "- se l'immagine è in scala di grigio, la colonna *grayscale* indica la media dei valori dell'unico livello di colore\n",
    "- se l'immagine è a colori, le altre colonne indicano la media dei valori di ogni livello di colore.\n",
    "\n",
    "---"
   ]
  },
  {
   "cell_type": "markdown",
   "metadata": {},
   "source": [
    "**Dovrai consegnare**:\n",
    "- un notebook con gli Step 1 e 3; per semplicità puoi chiamarlo come questo\n",
    "- addfile.py con quanto richiesto dallo Step 2."
   ]
  }
 ],
 "metadata": {
  "kernelspec": {
   "display_name": "Python [conda env:base] *",
   "language": "python",
   "name": "conda-base-py"
  },
  "language_info": {
   "codemirror_mode": {
    "name": "ipython",
    "version": 3
   },
   "file_extension": ".py",
   "mimetype": "text/x-python",
   "name": "python",
   "nbconvert_exporter": "python",
   "pygments_lexer": "ipython3",
   "version": "3.12.7"
  }
 },
 "nbformat": 4,
 "nbformat_minor": 4
}
